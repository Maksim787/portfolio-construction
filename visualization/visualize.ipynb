{
 "cells": [
  {
   "cell_type": "code",
   "execution_count": 1,
   "metadata": {},
   "outputs": [],
   "source": [
    "%load_ext autoreload\n",
    "%autoreload 2"
   ]
  },
  {
   "cell_type": "code",
   "execution_count": 2,
   "metadata": {},
   "outputs": [],
   "source": [
    "import sys\n",
    "\n",
    "sys.path.insert(1, '../')"
   ]
  },
  {
   "cell_type": "code",
   "execution_count": 3,
   "metadata": {
    "collapsed": true
   },
   "outputs": [
    {
     "name": "stdout",
     "output_type": "stream",
     "text": [
      "Create shares\n",
      "Create last_prices\n",
      "Create positions\n",
      "Create position_candles\n"
     ]
    }
   ],
   "source": [
    "from library.utils import *\n",
    "\n",
    "token, account_id = get_token_account_id('../keys.yaml')\n",
    "\n",
    "# Create client\n",
    "force_update = True\n",
    "async with inv.AsyncClient(token=token) as client:\n",
    "    # load shares\n",
    "    shares: list[inv.Share] = (await load_from_cache('shares', get_shares(client), force_update)).instruments\n",
    "    # load last prices\n",
    "    last_prices: list[inv.LastPrice] = (await load_from_cache('last_prices', get_last_prices(client, shares), force_update)).last_prices\n",
    "    # load positions\n",
    "    positions: list[inv.PositionsSecurities] = (await load_from_cache('positions', get_positions(client, account_id), force_update)).securities\n",
    "\n",
    "    # map figi to share and last price\n",
    "    shares_by_figi: dict[str, inv.Share] = {share.figi: share for share in shares}\n",
    "    last_prices_by_figi = {last_price.figi: quotation_to_float(last_price.price) for last_price in last_prices}\n",
    "\n",
    "    # filter positions to be shares in rub\n",
    "    positions = [pos for pos in positions if pos.instrument_type == 'share' and shares_by_figi[pos.figi].currency == 'rub']\n",
    "\n",
    "    # filter shares presented in positions\n",
    "    positions_figi = {pos.figi for pos in positions}\n",
    "    shares = [share for share in shares if share.figi in positions_figi]\n",
    "\n",
    "    # get candles for shares in positions\n",
    "    candles: list[list[inv.GetCandlesResponse]] = (await load_from_cache('position_candles', get_candles(client, shares, n_days=365), force_update))\n",
    "    candles_by_figi = {share.figi: share_candles_response.candles for share, share_candles_response in zip(shares, candles)}"
   ]
  },
  {
   "cell_type": "code",
   "execution_count": 4,
   "metadata": {},
   "outputs": [],
   "source": [
    "yesterday_close_by_figi = {pos.figi: get_yesterday_close(candles_by_figi[pos.figi]) for pos in positions}"
   ]
  },
  {
   "cell_type": "code",
   "execution_count": 5,
   "metadata": {
    "collapsed": false,
    "pycharm": {
     "name": "#%%\n"
    }
   },
   "outputs": [
    {
     "name": "stdout",
     "output_type": "stream",
     "text": [
      "Total balance: 579999.74 RUB\n"
     ]
    }
   ],
   "source": [
    "import numpy as np\n",
    "\n",
    "# positions, shares_by_figi, last_prices_by_figi, candles_by_figi, yesterday_close_by_figi\n",
    "\n",
    "\n",
    "def get_return(prev_px: float, curr_px: float):\n",
    "    return (curr_px - prev_px) / prev_px * 100\n",
    "\n",
    "\n",
    "tickers = [shares_by_figi[pos.figi].ticker for pos in positions]\n",
    "sectors = [shares_by_figi[pos.figi].sector for pos in positions]\n",
    "returns = [get_return(yesterday_close_by_figi[pos.figi], last_prices_by_figi[pos.figi]) for pos in positions]\n",
    "\n",
    "positions_rub = np.array([pos.balance * last_prices_by_figi[pos.figi] for pos in positions])\n",
    "print(f'Total balance: {positions_rub.sum():.2f} RUB')"
   ]
  },
  {
   "cell_type": "code",
   "execution_count": 13,
   "metadata": {
    "collapsed": false,
    "pycharm": {
     "name": "#%%\n"
    }
   },
   "outputs": [
    {
     "name": "stdout",
     "output_type": "stream",
     "text": [
      "2.0\n"
     ]
    }
   ],
   "source": [
    "import pandas as pd\n",
    "import plotly.express as px\n",
    "from colour import Color\n",
    "\n",
    "\n",
    "def add_color(df):\n",
    "    df = df.copy()\n",
    "    lower = -2\n",
    "    upper = 2\n",
    "    bins = np.arange(lower, upper + 0.2, 0.2)\n",
    "    colors = list(map(lambda x: x.get_web(), Color(\"red\").range_to(Color(\"green\"), len(bins) - 1)))\n",
    "    df[\"color\"] = pd.cut(df[\"return\"], bins=bins, labels=colors, include_lowest=True)\n",
    "    df.loc[df[\"return\"] >= upper, \"color\"] = colors[-1]\n",
    "    df.loc[df[\"return\"] <= lower, \"color\"] = colors[0]\n",
    "    assert df[\"color\"].isna().sum() == 0\n",
    "    return df\n",
    "\n",
    "\n",
    "def plot(tickers, sectors, returns, positions, outliers_pct: float):\n",
    "    max_abs_return_value = np.abs([np.quantile(returns, outliers_pct / 2 / 100),\n",
    "                                   np.quantile(returns, (100 - outliers_pct) / 2 / 100)]).max()\n",
    "    max_abs_return_value = round(max_abs_return_value * 2) / 2\n",
    "    print(max_abs_return_value)\n",
    "\n",
    "    df = pd.DataFrame(\n",
    "        {\n",
    "            \"ticker\":   tickers,\n",
    "            \"sector\": sectors,\n",
    "            \"return\": returns,\n",
    "            \"position\": positions,\n",
    "        }\n",
    "    )\n",
    "    df = add_color(df)\n",
    "\n",
    "    df[\"position\"] = df[\"position\"].round()\n",
    "    df.sort_values(by=[\"ticker\", \"sector\"], inplace=True)\n",
    "\n",
    "    fig = px.treemap(\n",
    "        df,\n",
    "        path=[\"sector\", \"ticker\"],\n",
    "        # box sizes\n",
    "        values=\"position\",\n",
    "        # colors\n",
    "        color=\"return\",\n",
    "        color_continuous_scale=[\"red\", \"yellow\", \"green\"],\n",
    "        color_continuous_midpoint=0.0,\n",
    "        range_color=[-max_abs_return_value, max_abs_return_value],\n",
    "        hover_data={\"return\": \":.4f\"},\n",
    "    )\n",
    "    fig.data[0].customdata = np.column_stack(\n",
    "        [df[\"position\"].tolist(), df[\"return\"].tolist()]\n",
    "    )\n",
    "    fig.data[0].texttemplate = \"%{label}<br>Position:\\t%{customdata[0]:,} RUB<br>Return:\\t%{customdata[1]:.2f}%\"\n",
    "    fig.update_layout(margin=dict(t=50, l=25, r=25, b=25))\n",
    "    fig.write_html(\"../result/map.html\")\n",
    "\n",
    "\n",
    "plot(tickers, sectors, returns, positions_rub, outliers_pct=10.0)"
   ]
  },
  {
   "cell_type": "code",
   "execution_count": null,
   "metadata": {},
   "outputs": [],
   "source": []
  }
 ],
 "metadata": {
  "kernelspec": {
   "display_name": "Python 3",
   "language": "python",
   "name": "python3"
  },
  "language_info": {
   "codemirror_mode": {
    "name": "ipython",
    "version": 3
   },
   "file_extension": ".py",
   "mimetype": "text/x-python",
   "name": "python",
   "nbconvert_exporter": "python",
   "pygments_lexer": "ipython3",
   "version": "3.10.6"
  }
 },
 "nbformat": 4,
 "nbformat_minor": 0
}
